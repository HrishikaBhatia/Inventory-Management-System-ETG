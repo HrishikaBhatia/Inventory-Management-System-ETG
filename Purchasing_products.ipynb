{
  "nbformat": 4,
  "nbformat_minor": 0,
  "metadata": {
    "colab": {
      "name": "Purchasing_products.ipynb",
      "provenance": []
    },
    "kernelspec": {
      "name": "python3",
      "display_name": "Python 3"
    },
    "language_info": {
      "name": "python"
    }
  },
  "cells": [
    {
      "cell_type": "markdown",
      "metadata": {
        "id": "_l-o7-u3_irq"
      },
      "source": [
        "# Reading the Inventory"
      ]
    },
    {
      "cell_type": "code",
      "metadata": {
        "id": "Zfzvg9uQ_5zQ"
      },
      "source": [
        "import json\n",
        "fd = open(\"record.json\",\"r\")\n",
        "r = fd.read()\n",
        "fd.close()\n",
        "\n",
        "records = json.loads(r)"
      ],
      "execution_count": 10,
      "outputs": []
    },
    {
      "cell_type": "code",
      "metadata": {
        "colab": {
          "base_uri": "https://localhost:8080/"
        },
        "id": "SOLg02mb_51z",
        "outputId": "40d9b862-4a60-4460-b1a6-e2d817daf915"
      },
      "source": [
        "records"
      ],
      "execution_count": 11,
      "outputs": [
        {
          "output_type": "execute_result",
          "data": {
            "text/plain": [
              "{'1001': {'name': 'Choco Cake', 'pr': 100, 'qn': 34},\n",
              " '1002': {'name': 'Milk Cake', 'pr': 800, 'qn': 100},\n",
              " '1003': {'name': 'Drink', 'pr': 85, 'qn': 100},\n",
              " '1004': {'name': 'Candy', 'pr': 5, 'qn': 1400},\n",
              " '1005': {'name': 'Pen', 'pr': 20, 'qn': 100},\n",
              " '1006': {'name': 'Phone', 'pr': 50000, 'qn': 10},\n",
              " '1007': {'name': 'Mic', 'pr': 1500, 'qn': 0},\n",
              " '1008': {'name': 'Case', 'pr': 599, 'qn': 5},\n",
              " '1009': {'name': 'Keyboard', 'pr': 1999, 'qn': 10},\n",
              " '1010': {'name': 'chips', 'pr': 10, 'qn': 200},\n",
              " '1011': {'name': 'pasta', 'pr': 40, 'qn': 100},\n",
              " '1012': {'name': 'Sauce', 'pr': 50, 'qn': 300},\n",
              " '1013': {'name': 'maggie', 'pr': 40, 'qn': 500},\n",
              " '1014': {'name': 'maggie', 'pr': 10, 'qn': 250},\n",
              " '1015': {'name': 'maggie', 'pr': 100, 'qn': 50},\n",
              " '1016': {'name': 'goodday', 'pr': 50, 'qn': 700},\n",
              " '1017': {'name': 'goodday', 'pr': 150, 'qn': 100},\n",
              " '1018': {'name': 'jimjam', 'pr': 30, 'qn': 400},\n",
              " '1019': {'name': 'choco chips', 'pr': 60, 'qn': 130},\n",
              " '1020': {'name': 'choco sticks', 'pr': 80, 'qn': 600},\n",
              " '1021': {'name': 'dairy milk shots', 'pr': 5, 'qn': 2000},\n",
              " '1022': {'name': 'kitkat', 'pr': 20, 'qn': 700},\n",
              " '1023': {'name': 'gems', 'pr': 25, 'qn': 280},\n",
              " '1024': {'name': 'five star', 'pr': 40, 'qn': 550},\n",
              " '1025': {'name': 'nutella', 'pr': 150, 'qn': 300},\n",
              " '1026': {'name': 'lollypop', 'pr': 4, 'qn': 500},\n",
              " '1027': {'name': 'mango dolly', 'pr': 20, 'qn': 560},\n",
              " '1028': {'name': 'cornetto', 'pr': 35, 'qn': 200},\n",
              " '1029': {'name': 'vanilla cup', 'pr': 20, 'qn': 1000},\n",
              " '1030': {'name': 'chocolate bar', 'pr': 15, 'qn': 200}}"
            ]
          },
          "metadata": {},
          "execution_count": 11
        }
      ]
    },
    {
      "cell_type": "markdown",
      "metadata": {
        "id": "Ju2NxHnQAfIv"
      },
      "source": [
        "# Purchsing the Items"
      ]
    },
    {
      "cell_type": "code",
      "metadata": {
        "colab": {
          "base_uri": "https://localhost:8080/"
        },
        "id": "M7n2ea7zAei2",
        "outputId": "628e7135-7d2b-4b9f-edb6-c6782814fa14"
      },
      "source": [
        "prod_id = str(input(\"Enter the product id:\"))\n",
        "qnt = int(input(\"Enter the quantity:\"))\n",
        "\n",
        "if prod_id in records.keys():\n",
        "  if records[prod_id]['qn'] >= qnt:\n",
        "    print(\"Product Name: \", records[prod_id]['name'])\n",
        "    print(\"Price: \", records[prod_id]['pr'])\n",
        "    print(\"Billing amount: \", records[prod_id]['pr'] * qnt)\n",
        "    records[prod_id]['qn'] = records[prod_id]['qn'] - qnt \n",
        "  else:\n",
        "    print(\"Out of stock\")\n",
        "else:\n",
        "  print(\"No item in the inventory in the match of the entered product id\")"
      ],
      "execution_count": 67,
      "outputs": [
        {
          "output_type": "stream",
          "name": "stdout",
          "text": [
            "Enter the product id:1010\n",
            "Enter the quantity:3\n",
            "Product Name:  chips\n",
            "Price:  10\n",
            "Billing amount:  30\n"
          ]
        }
      ]
    },
    {
      "cell_type": "markdown",
      "metadata": {
        "id": "W56z86y1EmSl"
      },
      "source": [
        "#  Updating the Inventory after Purchase"
      ]
    },
    {
      "cell_type": "code",
      "metadata": {
        "id": "D3kYuTKqEVC0"
      },
      "source": [
        "js = json.dumps(records)\n",
        "fd = open(\"record.json\",\"w\")\n",
        "fd.write(js)\n",
        "fd.close()"
      ],
      "execution_count": 68,
      "outputs": []
    },
    {
      "cell_type": "markdown",
      "metadata": {
        "id": "gZfW0TYtHfq5"
      },
      "source": [
        "# Creating the Sales file"
      ]
    },
    {
      "cell_type": "code",
      "metadata": {
        "id": "zs9TYewIQILq"
      },
      "source": [
        "sales = {}"
      ],
      "execution_count": 26,
      "outputs": []
    },
    {
      "cell_type": "code",
      "metadata": {
        "id": "ll3caXR6Ohsj"
      },
      "source": [
        "\n",
        "sales[len(sales)+1] = {'prod_name': records[prod_id]['name'] , 'quantity' : qnt , 'amount' : records[prod_id]['pr'] * qnt}"
      ],
      "execution_count": 69,
      "outputs": []
    },
    {
      "cell_type": "code",
      "metadata": {
        "id": "ShsDqyC0RFdm"
      },
      "source": [
        "sale = json.dumps(sales)\n",
        "fd = open(\"sales.json\",\"w\")\n",
        "fd.write(sale)\n",
        "fd.close()"
      ],
      "execution_count": 71,
      "outputs": []
    }
  ]
}