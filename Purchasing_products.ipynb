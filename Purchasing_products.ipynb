{
  "nbformat": 4,
  "nbformat_minor": 0,
  "metadata": {
    "colab": {
      "name": "Purchasing_products.ipynb",
      "provenance": [],
      "collapsed_sections": []
    },
    "kernelspec": {
      "name": "python3",
      "display_name": "Python 3"
    },
    "language_info": {
      "name": "python"
    }
  },
  "cells": [
    {
      "cell_type": "markdown",
      "metadata": {
        "id": "1CL6owonOh6r"
      },
      "source": [
        "### Reading and loading record JSON file"
      ]
    },
    {
      "cell_type": "code",
      "metadata": {
        "id": "XkGeJIVCl_Bd"
      },
      "source": [
        "fd = open(\"record.json\",'r')\n",
        "r = fd.read()\n",
        "fd.close()"
      ],
      "execution_count": 13,
      "outputs": []
    },
    {
      "cell_type": "markdown",
      "metadata": {
        "id": "Ctk_eBFBOrpM"
      },
      "source": [
        "### Importing libraries"
      ]
    },
    {
      "cell_type": "code",
      "metadata": {
        "id": "tHkqqmLwN-dR"
      },
      "source": [
        "import json\n",
        "import datetime"
      ],
      "execution_count": 14,
      "outputs": []
    },
    {
      "cell_type": "markdown",
      "metadata": {
        "id": "AIyRXjftO2Pv"
      },
      "source": [
        "### Coverting string file to a Dictionary"
      ]
    },
    {
      "cell_type": "code",
      "metadata": {
        "id": "D9RNz7TfN-i1"
      },
      "source": [
        "records = json.loads(r)"
      ],
      "execution_count": 15,
      "outputs": []
    },
    {
      "cell_type": "markdown",
      "metadata": {
        "id": "0XBS7jKDPDx8"
      },
      "source": [
        "### Purchasing items from inventory"
      ]
    },
    {
      "cell_type": "code",
      "metadata": {
        "colab": {
          "base_uri": "https://localhost:8080/"
        },
        "id": "Ex8h6ap-l_M7",
        "outputId": "56f70177-b67d-4f6d-dc56-ca4709a78e7b"
      },
      "source": [
        "while(True):\n",
        "\n",
        "  # Inputting user information\n",
        "  print(\"**********************USER INFORMATION******************************\\n\")\n",
        "  u_name = input(\"Enter your name: \")                                           # Taking buyer name as input\n",
        "  ph_num = int(input(\"Enter your phone number: \"))                              # Taking buyer's ph no.\n",
        "  print(\"**********************************************************************\")\n",
        "\n",
        "  # Displaying menu\n",
        "  print(\"*******************CURRENT ITEMS IN THE INVENTORY*******************\\n\")\n",
        "  for i in records.keys():\n",
        "    print(i,records[i])\n",
        "  print(\"\\n********************************************************************\")\n",
        "\n",
        "  # Making purchase\n",
        "  print(\"\\n*****************PURCHASING ITEMS FROM INVENTORY********************\")\n",
        "\n",
        "  pr_id = input(\"Enter product ID: \")                                           # Inputting prod Id\n",
        "  quant = int(input(\"Enter quantity that you want to purchase: \"))              # Inputting prod quantity\n",
        "\n",
        "  if pr_id in records.keys():                                                   # When product is already there \n",
        "\n",
        "    if quant > records[pr_id]['qn']:                                            # When quantity asked is more \n",
        "      print(\"-----------------------------------------\\n\")\n",
        "      choice1 = input(\"Sorry! We do not have the specified quantity\\nDo you want to purchase the quantity that we have?\\nEnter Y for yes\\nEnter N for no: \")\n",
        "      \n",
        "      if choice1 == 'Y':                                                        # Displaying purchase info\n",
        "        print(\"----------------------------------------\")\n",
        "        print(\"Product ID: \",pr_id)\n",
        "        print(\"Product Name: \",records[pr_id]['name'])\n",
        "        print(\"Price of product: \",records[pr_id]['pr'])\n",
        "        print(\"Quantity: \",records[pr_id]['qn'])\n",
        "        print(\"----------------------------------------\")\n",
        "        print(\"Billing amount: \",(records[pr_id]['qn'] * records[pr_id]['pr']))\n",
        "        print(\"----------------------------------------\")\n",
        "\n",
        "        now = datetime.datetime.now()                                           # Recording transaction time\n",
        "\n",
        "        sales[len(sales)+1] = {'name of buyer': u_name ,                        # Updating the sales file\n",
        "                               'Phone number':ph_num,\n",
        "                               'product name':records[pr_id]['name'],\n",
        "                               'Quantity purchased':records[pr_id]['qn'],\n",
        "                               'Billing amount':(records[pr_id]['qn'] * records[pr_id]['pr']),\n",
        "                               'date and time':now.strftime(\"%Y-%m-%d %H:%M:%S\")}\n",
        "        \n",
        "        records[pr_id]['qn'] = 0                                                # Updating the inventory\n",
        "    \n",
        "      elif choice1 == 'N':\n",
        "        print(\"No purchase been made\")\n",
        "        print(\"----------------------------------------\")\n",
        "    \n",
        "      else:\n",
        "        print(\"We didn't understand your choice\")\n",
        "        print(\"----------------------------------------\")\n",
        "\n",
        "    else:                                                                       # When there is enough quantity\n",
        "      print(\"----------------------------------------\")                         \n",
        "      print(\"Product ID: \",pr_id)\n",
        "      print(\"Product Name: \",records[pr_id]['name'])\n",
        "      print(\"Price of product: \",records[pr_id]['pr'])\n",
        "      print(\"Quantity: \",quant)\n",
        "      print(\"----------------------------------------\")\n",
        "      print(\"Billing amount: \",(quant * records[pr_id]['pr']))\n",
        "      print(\"----------------------------------------\")\n",
        "\n",
        "      records[pr_id]['qn'] = records[pr_id]['qn'] - quant                       # Updating the inventory\n",
        "\n",
        "      now = datetime.datetime.now()                                             # Recording transaction time\n",
        "\n",
        "      sales[len(sales)+1] = {'name of buyer': u_name ,                          # Updating sales file \n",
        "                             'Phone number':ph_num,\n",
        "                             'product name':records[pr_id]['name'],\n",
        "                             'Quantity purchased':quant,\n",
        "                             'Billing amount':(quant * records[pr_id]['pr']),\n",
        "                             'date and time':now.strftime(\"%Y-%m-%d %H:%M:%S\")}\n",
        "\n",
        "\n",
        "  else:                                                                         # When incorrect prod ID is entered\n",
        "    print(\"************Product does not exist in the inventory****************\\n\")\n",
        "    print(\"\\n*****************Please Enter a valid product ID*******************\")\n",
        "\n",
        "\n",
        "  # Asking user if he/she wants to purchase more items\n",
        "  choice2 = input(\"Do you want to purchase more items?\\nEnter Y for yes\\nEnter N for no: \")\n",
        "  if choice2 == 'Y':\n",
        "    continue\n",
        "  elif choice2 == 'N':\n",
        "    break\n",
        "  else:\n",
        "    print(\"We did'nt understand your choice\")\n",
        "    break\n"
      ],
      "execution_count": 20,
      "outputs": [
        {
          "name": "stdout",
          "output_type": "stream",
          "text": [
            "**********************USER INFORMATION******************************\n",
            "\n",
            "Enter your name: Khushi Gupta\n",
            "Enter your phone number: 98216954\n",
            "**********************************************************************\n",
            "*******************CURRENT ITEMS IN THE INVENTORY*******************\n",
            "\n",
            "1001 {'name': 'Choco Cake', 'qn': 25, 'pr': 100}\n",
            "1002 {'name': 'Milk Cake', 'pr': 800, 'qn': 100}\n",
            "1003 {'name': 'Drink', 'pr': 85, 'qn': 100}\n",
            "1004 {'name': 'Candy', 'pr': 5, 'qn': 1400}\n",
            "1005 {'name': 'Pen', 'pr': 20, 'qn': 100}\n",
            "1006 {'name': 'Phone', 'pr': 50000, 'qn': 10}\n",
            "1007 {'name': 'Mic', 'pr': 1500, 'qn': 0}\n",
            "1008 {'name': 'Case', 'pr': 599, 'qn': 5}\n",
            "1009 {'name': 'Keyboard', 'pr': 1999, 'qn': 10}\n",
            "1010 {'name': 'chips', 'pr': 10, 'qn': 197}\n",
            "1011 {'name': 'pasta', 'pr': 40, 'qn': 100}\n",
            "1012 {'name': 'Sauce', 'pr': 50, 'qn': 300}\n",
            "1013 {'name': 'maggie', 'pr': 40, 'qn': 500}\n",
            "1014 {'name': 'maggie', 'pr': 10, 'qn': 250}\n",
            "1015 {'name': 'maggie', 'pr': 100, 'qn': 50}\n",
            "1016 {'name': 'goodday', 'pr': 50, 'qn': 700}\n",
            "1017 {'name': 'goodday', 'pr': 150, 'qn': 93}\n",
            "1018 {'name': 'jimjam', 'pr': 30, 'qn': 397}\n",
            "1019 {'name': 'choco chips', 'pr': 60, 'qn': 128}\n",
            "1020 {'name': 'choco sticks', 'pr': 80, 'qn': 600}\n",
            "1021 {'name': 'dairy milk shots', 'pr': 5, 'qn': 1997}\n",
            "1022 {'name': 'kitkat', 'pr': 20, 'qn': 687}\n",
            "1023 {'name': 'gems', 'pr': 25, 'qn': 274}\n",
            "1024 {'name': 'five star', 'pr': 40, 'qn': 550}\n",
            "1025 {'name': 'nutella', 'pr': 150, 'qn': 300}\n",
            "1026 {'name': 'lollypop', 'pr': 4, 'qn': 498}\n",
            "1027 {'name': 'mango dolly', 'pr': 20, 'qn': 555}\n",
            "1028 {'name': 'cornetto', 'pr': 35, 'qn': 199}\n",
            "1029 {'name': 'vanilla cup', 'pr': 20, 'qn': 996}\n",
            "1030 {'name': 'chocolate bar', 'pr': 15, 'qn': 198}\n",
            "\n",
            "********************************************************************\n",
            "\n",
            "*****************PURCHASING ITEMS FROM INVENTORY********************\n",
            "Enter product ID: 1030\n",
            "Enter quantity that you want to purchase: 10\n",
            "----------------------------------------\n",
            "Product ID:  1030\n",
            "Product Name:  chocolate bar\n",
            "Price of product:  15\n",
            "Quantity:  10\n",
            "----------------------------------------\n",
            "Billing amount:  150\n",
            "----------------------------------------\n",
            "Do you want to purchase more items?\n",
            "Enter Y for yes\n",
            "Enter N for no: Y\n",
            "**********************USER INFORMATION******************************\n",
            "\n",
            "Enter your name: Khushi Kumari\n",
            "Enter your phone number: 92109704\n",
            "**********************************************************************\n",
            "*******************CURRENT ITEMS IN THE INVENTORY*******************\n",
            "\n",
            "1001 {'name': 'Choco Cake', 'qn': 25, 'pr': 100}\n",
            "1002 {'name': 'Milk Cake', 'pr': 800, 'qn': 100}\n",
            "1003 {'name': 'Drink', 'pr': 85, 'qn': 100}\n",
            "1004 {'name': 'Candy', 'pr': 5, 'qn': 1400}\n",
            "1005 {'name': 'Pen', 'pr': 20, 'qn': 100}\n",
            "1006 {'name': 'Phone', 'pr': 50000, 'qn': 10}\n",
            "1007 {'name': 'Mic', 'pr': 1500, 'qn': 0}\n",
            "1008 {'name': 'Case', 'pr': 599, 'qn': 5}\n",
            "1009 {'name': 'Keyboard', 'pr': 1999, 'qn': 10}\n",
            "1010 {'name': 'chips', 'pr': 10, 'qn': 197}\n",
            "1011 {'name': 'pasta', 'pr': 40, 'qn': 100}\n",
            "1012 {'name': 'Sauce', 'pr': 50, 'qn': 300}\n",
            "1013 {'name': 'maggie', 'pr': 40, 'qn': 500}\n",
            "1014 {'name': 'maggie', 'pr': 10, 'qn': 250}\n",
            "1015 {'name': 'maggie', 'pr': 100, 'qn': 50}\n",
            "1016 {'name': 'goodday', 'pr': 50, 'qn': 700}\n",
            "1017 {'name': 'goodday', 'pr': 150, 'qn': 93}\n",
            "1018 {'name': 'jimjam', 'pr': 30, 'qn': 397}\n",
            "1019 {'name': 'choco chips', 'pr': 60, 'qn': 128}\n",
            "1020 {'name': 'choco sticks', 'pr': 80, 'qn': 600}\n",
            "1021 {'name': 'dairy milk shots', 'pr': 5, 'qn': 1997}\n",
            "1022 {'name': 'kitkat', 'pr': 20, 'qn': 687}\n",
            "1023 {'name': 'gems', 'pr': 25, 'qn': 274}\n",
            "1024 {'name': 'five star', 'pr': 40, 'qn': 550}\n",
            "1025 {'name': 'nutella', 'pr': 150, 'qn': 300}\n",
            "1026 {'name': 'lollypop', 'pr': 4, 'qn': 498}\n",
            "1027 {'name': 'mango dolly', 'pr': 20, 'qn': 555}\n",
            "1028 {'name': 'cornetto', 'pr': 35, 'qn': 199}\n",
            "1029 {'name': 'vanilla cup', 'pr': 20, 'qn': 996}\n",
            "1030 {'name': 'chocolate bar', 'pr': 15, 'qn': 188}\n",
            "\n",
            "********************************************************************\n",
            "\n",
            "*****************PURCHASING ITEMS FROM INVENTORY********************\n",
            "Enter product ID: 1030\n",
            "Enter quantity that you want to purchase: 200\n",
            "-----------------------------------------\n",
            "\n",
            "Sorry! We do not have the specified quantity\n",
            "Do you want to purchase the quantity that we have?\n",
            "Enter Y for yes\n",
            "Enter N for no: N\n",
            "No purchase been made\n",
            "----------------------------------------\n",
            "Do you want to purchase more items?\n",
            "Enter Y for yes\n",
            "Enter N for no: N\n"
          ]
        }
      ]
    },
    {
      "cell_type": "markdown",
      "metadata": {
        "id": "HZ8bRwY8PTUX"
      },
      "source": [
        "### Creating and updating sales JSON file and record JSON file"
      ]
    },
    {
      "cell_type": "code",
      "metadata": {
        "colab": {
          "base_uri": "https://localhost:8080/"
        },
        "id": "FzN8Cf2VPSuH",
        "outputId": "b4eec007-743d-4ae6-ab6f-b57d230de679"
      },
      "source": [
        "# Converting sales dict to str \n",
        "sl = json.dumps(sales)\n",
        "# Writing sales JSON file to new sales data\n",
        "fd = open(\"sales.json\",'w')\n",
        "fd.write(sl)\n",
        "fd.close()\n",
        "\n",
        "print(\"Data updated in sales file\")\n",
        "print(\"--------------------------\")\n",
        "\n",
        "# Converting records dict to str\n",
        "js = json.dumps(records)\n",
        "# Writing records JSON file to new records data\n",
        "fd = open(\"record.json\",'w')\n",
        "fd.write(js)\n",
        "fd.close()\n",
        "\n",
        "print(\"Data updated in records file\")\n",
        "print(\"--------------------------\")"
      ],
      "execution_count": 21,
      "outputs": [
        {
          "output_type": "stream",
          "name": "stdout",
          "text": [
            "Data updated in sales file\n",
            "--------------------------\n",
            "Data updated in records file\n",
            "--------------------------\n"
          ]
        }
      ]
    },
    {
      "cell_type": "code",
      "metadata": {
        "colab": {
          "base_uri": "https://localhost:8080/"
        },
        "id": "yJlZAEqgQ99R",
        "outputId": "6fdf15e4-cc25-47ca-e6d8-985589438d7a"
      },
      "source": [
        "records                                                                         # Displaying updated records"
      ],
      "execution_count": 22,
      "outputs": [
        {
          "output_type": "execute_result",
          "data": {
            "text/plain": [
              "{'1001': {'name': 'Choco Cake', 'pr': 100, 'qn': 25},\n",
              " '1002': {'name': 'Milk Cake', 'pr': 800, 'qn': 100},\n",
              " '1003': {'name': 'Drink', 'pr': 85, 'qn': 100},\n",
              " '1004': {'name': 'Candy', 'pr': 5, 'qn': 1400},\n",
              " '1005': {'name': 'Pen', 'pr': 20, 'qn': 100},\n",
              " '1006': {'name': 'Phone', 'pr': 50000, 'qn': 10},\n",
              " '1007': {'name': 'Mic', 'pr': 1500, 'qn': 0},\n",
              " '1008': {'name': 'Case', 'pr': 599, 'qn': 5},\n",
              " '1009': {'name': 'Keyboard', 'pr': 1999, 'qn': 10},\n",
              " '1010': {'name': 'chips', 'pr': 10, 'qn': 197},\n",
              " '1011': {'name': 'pasta', 'pr': 40, 'qn': 100},\n",
              " '1012': {'name': 'Sauce', 'pr': 50, 'qn': 300},\n",
              " '1013': {'name': 'maggie', 'pr': 40, 'qn': 500},\n",
              " '1014': {'name': 'maggie', 'pr': 10, 'qn': 250},\n",
              " '1015': {'name': 'maggie', 'pr': 100, 'qn': 50},\n",
              " '1016': {'name': 'goodday', 'pr': 50, 'qn': 700},\n",
              " '1017': {'name': 'goodday', 'pr': 150, 'qn': 93},\n",
              " '1018': {'name': 'jimjam', 'pr': 30, 'qn': 397},\n",
              " '1019': {'name': 'choco chips', 'pr': 60, 'qn': 128},\n",
              " '1020': {'name': 'choco sticks', 'pr': 80, 'qn': 600},\n",
              " '1021': {'name': 'dairy milk shots', 'pr': 5, 'qn': 1997},\n",
              " '1022': {'name': 'kitkat', 'pr': 20, 'qn': 687},\n",
              " '1023': {'name': 'gems', 'pr': 25, 'qn': 274},\n",
              " '1024': {'name': 'five star', 'pr': 40, 'qn': 550},\n",
              " '1025': {'name': 'nutella', 'pr': 150, 'qn': 300},\n",
              " '1026': {'name': 'lollypop', 'pr': 4, 'qn': 498},\n",
              " '1027': {'name': 'mango dolly', 'pr': 20, 'qn': 555},\n",
              " '1028': {'name': 'cornetto', 'pr': 35, 'qn': 199},\n",
              " '1029': {'name': 'vanilla cup', 'pr': 20, 'qn': 996},\n",
              " '1030': {'name': 'chocolate bar', 'pr': 15, 'qn': 188}}"
            ]
          },
          "metadata": {},
          "execution_count": 22
        }
      ]
    },
    {
      "cell_type": "code",
      "metadata": {
        "colab": {
          "base_uri": "https://localhost:8080/"
        },
        "id": "WvBmswCiQ-Ah",
        "outputId": "62922774-9957-4ea1-d936-5e028a8c0e25"
      },
      "source": [
        "sales                                                                           # Displaying updated sales file"
      ],
      "execution_count": 23,
      "outputs": [
        {
          "output_type": "execute_result",
          "data": {
            "text/plain": [
              "{1: {'Billing amount': 600,\n",
              "  'Phone number': 8397240638756,\n",
              "  'Quantity purchased': 6,\n",
              "  'date and time': '2021-09-12 18:26:21',\n",
              "  'name of buyer': 'Hrishika bhatia',\n",
              "  'product name': 'Choco Cake'},\n",
              " 2: {'Billing amount': 150,\n",
              "  'Phone number': 98216954,\n",
              "  'Quantity purchased': 10,\n",
              "  'date and time': '2021-09-12 18:30:19',\n",
              "  'name of buyer': 'Khushi Gupta',\n",
              "  'product name': 'chocolate bar'}}"
            ]
          },
          "metadata": {},
          "execution_count": 23
        }
      ]
    }
  ]
}