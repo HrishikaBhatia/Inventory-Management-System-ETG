{
  "nbformat": 4,
  "nbformat_minor": 0,
  "metadata": {
    "colab": {
      "name": "Adding_new_products.ipynb",
      "provenance": []
    },
    "kernelspec": {
      "name": "python3",
      "display_name": "Python 3"
    },
    "language_info": {
      "name": "python"
    }
  },
  "cells": [
    {
      "cell_type": "markdown",
      "metadata": {
        "id": "R9prRQH_ZWNL"
      },
      "source": [
        "### Reading the JSON file"
      ]
    },
    {
      "cell_type": "code",
      "metadata": {
        "id": "4Q4taPIzuRSF"
      },
      "source": [
        "fd = open(\"record_data.json\",'r')\n",
        "r = fd.read()\n",
        "fd.close()"
      ],
      "execution_count": 1,
      "outputs": []
    },
    {
      "cell_type": "markdown",
      "metadata": {
        "id": "5nWVoH9_ZkmC"
      },
      "source": [
        "### Importing JSON library"
      ]
    },
    {
      "cell_type": "code",
      "metadata": {
        "colab": {
          "base_uri": "https://localhost:8080/"
        },
        "id": "V6cQKYjfvx_n",
        "outputId": "92eaa7d9-e166-4092-c97e-49f4d544f108"
      },
      "source": [
        "import json\n",
        "records = json.loads(r)\n",
        "print(\"Current items in the inventory:\")                                        #Converting the string into dictionary\n",
        "print(records)                                                                  #printing the current items in the inventory       "
      ],
      "execution_count": 2,
      "outputs": [
        {
          "output_type": "execute_result",
          "data": {
            "text/plain": [
              "{'1001': {'name': 'Choco Cake', 'pr': 100, 'qn': 34},\n",
              " '1002': {'name': 'Milk Cake', 'pr': 800, 'qn': 100},\n",
              " '1003': {'name': 'Drink', 'pr': 85, 'qn': 100},\n",
              " '1004': {'name': 'Candy', 'pr': 5, 'qn': 1400}}"
            ]
          },
          "metadata": {},
          "execution_count": 2
        }
      ]
    },
    {
      "cell_type": "code",
      "metadata": {
        "colab": {
          "base_uri": "https://localhost:8080/"
        },
        "id": "gm5TOKuGvyC6",
        "outputId": "3ec8daca-846d-47c9-d089-2a69bd687847"
      },
      "source": [
        "while(True):\n",
        "\n",
        "  #Taking inputs from the user\n",
        "  pr_id = input(\"Enter the product id: \")                                       \n",
        "  name = input(\"Enter the product name: \")\n",
        "  pr = int(input(\"Enter the price of product: \"))\n",
        "  qn = int(input(\"Enter the quantity that you want to add: \"))\n",
        "\n",
        "\n",
        "  #Checking whether the product ID is already in the inventory\n",
        "  if pr_id in records.keys():                                                   \n",
        "    choice1 = input(\"The product ID you entered is already in the inventory\\nDo you want to add more quantity to it?\\nEnter 'Y' for yes\\nEnter 'N' for no: \")\n",
        "    if choice1 == 'Y':\n",
        "      records[pr_id] = {'name' : name , 'pr' : pr ,                             #Updating the records \n",
        "                        'qn' : (qn + records[pr_id]['qn'])}\n",
        "    elif choice1 == 'N':\n",
        "      print(\"The specified quantity not added to the inventory\")\n",
        "    else:\n",
        "      print(\"Sorry! We did'nt understand your choice\")\n",
        "  else:\n",
        "    records[pr_id] = {'name' : name , 'pr' : pr , 'qn' : qn}                    #Updating the records\n",
        "\n",
        "  #Asking the user whether he/she wants to add more items in the inventory  \n",
        "  choice2 = input(\"Do you want to add more items:\\nEnter 'Y' for yes\\nEnter 'N' for no: \")\n",
        "  if choice2 == 'Y':\n",
        "    continue\n",
        "  elif choice2 == 'N':\n",
        "    break\n",
        "  else:\n",
        "    print(\"Sorry! We did'nt understand your choice\")\n",
        "    break\n",
        "\n",
        "#Loading the updated records to the original file\n",
        "js = json.dumps(records)                                                        #Converting dictionary records to string\n",
        "fd = open(\"record_data.json\",'w')                                               #writing the original file to updated records\n",
        "fd.write(js)\n",
        "fd.close()                                                                      #Closing the file"
      ],
      "execution_count": 5,
      "outputs": [
        {
          "name": "stdout",
          "output_type": "stream",
          "text": [
            "Enter the product id: 1001\n",
            "Enter the product name: Choco Cake\n",
            "Enter the price of product: 100\n",
            "Enter the quantity that you want to add: 6\n",
            "The product ID you entered is already in the inventory\n",
            "Do you want to add more quantity to it?\n",
            "Enter 'Y' for yes\n",
            "Enter 'N' for no: Y\n",
            "Do you want to add more items:\n",
            "Enter 'Y' for yes\n",
            "Enter 'N' for no: Y\n",
            "Enter the product id: 1002\n",
            "Enter the product name: Milk Cake\n",
            "Enter the price of product: 800\n",
            "Enter the quantity that you want to add: 100\n",
            "The product ID you entered is already in the inventory\n",
            "Do you want to add more quantity to it?\n",
            "Enter 'Y' for yes\n",
            "Enter 'N' for no: N\n",
            "The specified quantity not added to the inventory\n",
            "Do you want to add more items:\n",
            "Enter 'Y' for yes\n",
            "Enter 'N' for no: N\n"
          ]
        }
      ]
    },
    {
      "cell_type": "markdown",
      "metadata": {
        "id": "6bRMaZ42cFN-"
      },
      "source": [
        "### Reading the updated records"
      ]
    },
    {
      "cell_type": "code",
      "metadata": {
        "colab": {
          "base_uri": "https://localhost:8080/"
        },
        "id": "3PX7kojQb8xg",
        "outputId": "5b300c06-c42f-42ca-e6d2-a245a7406c60"
      },
      "source": [
        "records"
      ],
      "execution_count": 7,
      "outputs": [
        {
          "output_type": "execute_result",
          "data": {
            "text/plain": [
              "{'1001': {'name': 'Choco Cake', 'pr': 100, 'qn': 40},\n",
              " '1002': {'name': 'Milk Cake', 'pr': 800, 'qn': 100},\n",
              " '1003': {'name': 'Drink', 'pr': 85, 'qn': 100},\n",
              " '1004': {'name': 'Candy', 'pr': 5, 'qn': 1400}}"
            ]
          },
          "metadata": {},
          "execution_count": 7
        }
      ]
    }
  ]
}