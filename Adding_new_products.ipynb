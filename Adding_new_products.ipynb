{
  "nbformat": 4,
  "nbformat_minor": 0,
  "metadata": {
    "colab": {
      "name": "Adding_new_products.ipynb",
      "provenance": []
    },
    "kernelspec": {
      "name": "python3",
      "display_name": "Python 3"
    },
    "language_info": {
      "name": "python"
    }
  },
  "cells": [
    {
      "cell_type": "markdown",
      "metadata": {
        "id": "whL05ZHr9rY_"
      },
      "source": [
        "# Reading the JSON file"
      ]
    },
    {
      "cell_type": "code",
      "metadata": {
        "id": "yaUWv-MA73wj"
      },
      "source": [
        "fd = open(\"record.json\",\"r\")\n",
        "r = fd.read()\n",
        "fd.close()"
      ],
      "execution_count": 8,
      "outputs": []
    },
    {
      "cell_type": "code",
      "metadata": {
        "id": "L58MD4CI8FNk"
      },
      "source": [
        "import json\n",
        "record = json.loads(r)"
      ],
      "execution_count": 9,
      "outputs": []
    },
    {
      "cell_type": "code",
      "metadata": {
        "colab": {
          "base_uri": "https://localhost:8080/"
        },
        "id": "HW69hJgG8FQK",
        "outputId": "e144f568-59b3-42c4-982d-6662a7759edd"
      },
      "source": [
        "record"
      ],
      "execution_count": 10,
      "outputs": [
        {
          "output_type": "execute_result",
          "data": {
            "text/plain": [
              "{'1001': {'name': 'Choco Cake', 'pr': 100, 'qn': 34},\n",
              " '1002': {'name': 'Milk Cake', 'pr': 800, 'qn': 100},\n",
              " '1003': {'name': 'Drink', 'pr': 85, 'qn': 100},\n",
              " '1004': {'name': 'Candy', 'pr': 5, 'qn': 1400},\n",
              " '1005': {'name': 'Pen', 'pr': 20, 'qn': 100},\n",
              " '1006': {'name': 'Phone', 'pr': 50000, 'qn': 10},\n",
              " '1007': {'name': 'Mic', 'pr': 1500, 'qn': 0},\n",
              " '1008': {'name': 'Case', 'pr': 599, 'qn': 5},\n",
              " '1009': {'name': 'Keyboard', 'pr': 1999, 'qn': 10},\n",
              " '1010': {'name': 'chips', 'pr': 10, 'qn': 200}}"
            ]
          },
          "metadata": {},
          "execution_count": 10
        }
      ]
    },
    {
      "cell_type": "markdown",
      "metadata": {
        "id": "L0X9I1-t-DFA"
      },
      "source": [
        "# Adding Item to Inventory"
      ]
    },
    {
      "cell_type": "code",
      "metadata": {
        "colab": {
          "base_uri": "https://localhost:8080/"
        },
        "id": "yU1CiHfE8Pbm",
        "outputId": "72aca1bd-7e16-44ae-b0bf-6bfd6800433d"
      },
      "source": [
        "pr_id = input(\"Enter the product id:\")\n",
        "name = input(\"Enter the name:\")\n",
        "pr = int(input(\"Enter the price:\"))\n",
        "qn = int(input(\"Enter quantity:\"))\n",
        "\n",
        "if pr_id in record.keys():\n",
        "  record[pr_id] = {'name':name, 'pr':pr, 'qn':(record[pr_id]['qn'] + qn)}\n",
        "else:\n",
        "  record[pr_id] = {'name':name, 'pr':pr, 'qn':qn}\n",
        "\n",
        "js = json.dumps(record)\n",
        "fd = open(\"record.json\",\"w\")\n",
        "fd.write(js)\n",
        "fd.close()"
      ],
      "execution_count": 39,
      "outputs": [
        {
          "name": "stdout",
          "output_type": "stream",
          "text": [
            "Enter the product id:1030\n",
            "Enter the name:chocolate bar\n",
            "Enter the price:15\n",
            "Enter quantity:200\n"
          ]
        }
      ]
    },
    {
      "cell_type": "code",
      "metadata": {
        "colab": {
          "base_uri": "https://localhost:8080/"
        },
        "id": "VEE3JomK8PeM",
        "outputId": "36291f92-d1b0-469e-a206-436b8a4cf018"
      },
      "source": [
        "record"
      ],
      "execution_count": 42,
      "outputs": [
        {
          "output_type": "execute_result",
          "data": {
            "text/plain": [
              "{'1001': {'name': 'Choco Cake', 'pr': 100, 'qn': 34},\n",
              " '1002': {'name': 'Milk Cake', 'pr': 800, 'qn': 100},\n",
              " '1003': {'name': 'Drink', 'pr': 85, 'qn': 100},\n",
              " '1004': {'name': 'Candy', 'pr': 5, 'qn': 1400},\n",
              " '1005': {'name': 'Pen', 'pr': 20, 'qn': 100},\n",
              " '1006': {'name': 'Phone', 'pr': 50000, 'qn': 10},\n",
              " '1007': {'name': 'Mic', 'pr': 1500, 'qn': 0},\n",
              " '1008': {'name': 'Case', 'pr': 599, 'qn': 5},\n",
              " '1009': {'name': 'Keyboard', 'pr': 1999, 'qn': 10},\n",
              " '1010': {'name': 'chips', 'pr': 10, 'qn': 200},\n",
              " '1011': {'name': 'pasta', 'pr': 40, 'qn': 100},\n",
              " '1012': {'name': 'Sauce', 'pr': 50, 'qn': 300},\n",
              " '1013': {'name': 'maggie', 'pr': 40, 'qn': 500},\n",
              " '1014': {'name': 'maggie', 'pr': 10, 'qn': 250},\n",
              " '1015': {'name': 'maggie', 'pr': 100, 'qn': 50},\n",
              " '1016': {'name': 'goodday', 'pr': 50, 'qn': 700},\n",
              " '1017': {'name': 'goodday', 'pr': 150, 'qn': 100},\n",
              " '1018': {'name': 'jimjam', 'pr': 30, 'qn': 400},\n",
              " '1019': {'name': 'choco chips', 'pr': 60, 'qn': 130},\n",
              " '1020': {'name': 'choco sticks', 'pr': 80, 'qn': 600},\n",
              " '1021': {'name': 'dairy milk shots', 'pr': 5, 'qn': 2000},\n",
              " '1022': {'name': 'kitkat', 'pr': 20, 'qn': 700},\n",
              " '1023': {'name': 'gems', 'pr': 25, 'qn': 280},\n",
              " '1024': {'name': 'five star', 'pr': 40, 'qn': 550},\n",
              " '1025': {'name': 'nutella', 'pr': 150, 'qn': 300},\n",
              " '1026': {'name': 'lollypop', 'pr': 4, 'qn': 500},\n",
              " '1027': {'name': 'mango dolly', 'pr': 20, 'qn': 560},\n",
              " '1028': {'name': 'cornetto', 'pr': 35, 'qn': 200},\n",
              " '1029': {'name': 'vanilla cup', 'pr': 20, 'qn': 1000},\n",
              " '1030': {'name': 'chocolate bar', 'pr': 15, 'qn': 200}}"
            ]
          },
          "metadata": {},
          "execution_count": 42
        }
      ]
    }
  ]
}